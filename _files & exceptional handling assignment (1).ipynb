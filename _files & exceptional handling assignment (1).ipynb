{
 "cells": [
  {
   "cell_type": "markdown",
   "id": "a351e963-dcba-4f33-9182-2371d539bbf6",
   "metadata": {},
   "source": [
    "Files, exceptional handling, logging and memory management Questions"
   ]
  },
  {
   "cell_type": "markdown",
   "id": "9a89a32b-74db-4a8b-b2c1-93a29506a25b",
   "metadata": {},
   "source": [
    "QUESTION- 1. What is the difference between interpreted and compiled languages?"
   ]
  },
  {
   "cell_type": "markdown",
   "id": "594fc961-f942-4f49-82d9-2fb8a14821ab",
   "metadata": {},
   "source": [
    "#ANSWER-\n",
    "Interpreted: Code is executed line-by-linne (e.g., Python).\n",
    "Compiled: Code is converted into machine code before execution (e.g., C++)."
   ]
  },
  {
   "cell_type": "raw",
   "id": "11d748fa-3a9b-471f-9bcc-5f55ba62d01b",
   "metadata": {},
   "source": [
    "QUESTION- 2. What is exception handling in Python?"
   ]
  },
  {
   "cell_type": "markdown",
   "id": "12a5243a-9ef7-4e07-ad06-2902b405f334",
   "metadata": {},
   "source": [
    "#ANSWER- It is mechanism to handle runtime error gracefully without crashing the program, using try, finally, except and else blocks. "
   ]
  },
  {
   "cell_type": "raw",
   "id": "bbaee3bd-8aec-47b8-93be-6d2078b13962",
   "metadata": {},
   "source": [
    "QUESTION- 3. What is the purpose of the finally block in exception handling?"
   ]
  },
  {
   "cell_type": "markdown",
   "id": "d26bd77b-ccb4-495b-acf6-50ab5bc040b5",
   "metadata": {},
   "source": [
    "#ANSWER- The finally block is always executed, regardless of whether an exception is raised or not. It is used for cleanup actions like closing files or releasing resources."
   ]
  },
  {
   "cell_type": "raw",
   "id": "8a0dbb27-38c5-4710-931d-c84d9a14b2f5",
   "metadata": {},
   "source": [
    "QUESTION- 4. What is logging in Python?"
   ]
  },
  {
   "cell_type": "markdown",
   "id": "ea144b01-b891-4c25-a20f-ebf55d8141af",
   "metadata": {},
   "source": [
    "#ANSWER-Logging is the process of tracking events in a program to debug, monitor, or audit its behavior."
   ]
  },
  {
   "cell_type": "raw",
   "id": "d59e8018-5f6f-4807-8e6e-845ed1ab03f6",
   "metadata": {},
   "source": [
    "QUESTION- 5. What is the significance of the __del__ method in Python?"
   ]
  },
  {
   "cell_type": "markdown",
   "id": "d8a8739a-8a68-4aa6-ad97-34a9248ee005",
   "metadata": {},
   "source": [
    "#ANSWER- It is a destructor method called when an object is about to be destroyed, often used for cleanup tasks."
   ]
  },
  {
   "cell_type": "raw",
   "id": "6d52a3ad-ec60-4650-96ec-060f5fa33a3e",
   "metadata": {},
   "source": [
    "QUESTION- 6. What is the difference between import and from ... import in Python?"
   ]
  },
  {
   "cell_type": "markdown",
   "id": "111253c4-29e9-46f1-bf65-49133c37f4ab",
   "metadata": {},
   "source": [
    "#ANSWER-6.import: Imports the entire module.\n",
    "from ... import: Imports specific attributes or functions from a module."
   ]
  },
  {
   "cell_type": "raw",
   "id": "4285cbad-d28c-4367-a0d8-cadf51fc2349",
   "metadata": {},
   "source": [
    "QUESTION-7.How can you handle multiple exceptions in Python?"
   ]
  },
  {
   "cell_type": "code",
   "execution_count": 34,
   "id": "3917f3dc-df67-4c52-b8c0-945b8eded52a",
   "metadata": {},
   "outputs": [],
   "source": [
    "#ANSWER-7.\n",
    "\n",
    "Use multiple except blocks for specific exceptions, or a tuple in a single except block:\n",
    "\n",
    "try:\n",
    "    ...\n",
    "except (TypeError, ValueError) as e:\n",
    "    ..."
   ]
  },
  {
   "cell_type": "raw",
   "id": "4a640d0a-b3e0-459b-98b6-6f1e77003cca",
   "metadata": {},
   "source": [
    "QUESTION- 8.What is the purpose of the with statement when handling files in Python?"
   ]
  },
  {
   "cell_type": "markdown",
   "id": "2579c290-7e4b-4588-8251-f67f4f8ba0ee",
   "metadata": {},
   "source": [
    "ANSWER-8. The with statement ensures that a file is properly opened and closed, even if an error occurs during file operations. It manages resources efficiently by using context managers."
   ]
  },
  {
   "cell_type": "raw",
   "id": "3a4ccf73-1d2a-4b4b-a582-6c2c6c0ed594",
   "metadata": {},
   "source": [
    "QUESTION- 9. What is the difference between multithreading and multiprocessing?"
   ]
  },
  {
   "cell_type": "markdown",
   "id": "b013eb07-9970-4642-a675-83ac21679759",
   "metadata": {},
   "source": [
    "#ANSWER-9.Multithreading: Multiple threads run in the same process, sharing memory.\n",
    "Multiprocessing: Multiple processes run independently with separate memory."
   ]
  },
  {
   "cell_type": "raw",
   "id": "467555f1-858c-4bc3-af66-6d136ad37b81",
   "metadata": {},
   "source": [
    "QUESTION- 10. What are the advantages of using logging in a program?                                      "
   ]
  },
  {
   "cell_type": "markdown",
   "id": "37991bc0-f132-4118-9e86-140e69ae0295",
   "metadata": {},
   "source": [
    "#ANSWER-10.Helps in debugging, provides runtime insights, enables error tracking, and supports persistent logs for future analysis."
   ]
  },
  {
   "cell_type": "markdown",
   "id": "a0a953ed-6e6f-4272-a7f7-fcfedfdac384",
   "metadata": {},
   "source": [
    "QUESTION-11. What is memory management in Python?"
   ]
  },
  {
   "cell_type": "markdown",
   "id": "9653952f-b902-4b8c-8385-4048f19d929d",
   "metadata": {
    "scrolled": true
   },
   "source": [
    "#ANSWER-11.Python's memory management involves handling memory allocation, deallocation, and garbage collection to optimize resource use."
   ]
  },
  {
   "cell_type": "markdown",
   "id": "24047cad-5bf4-4316-8f27-2e6bfb1368e2",
   "metadata": {},
   "source": [
    "QUESTION-12. What are the basic steps involved in exception handling in Python?"
   ]
  },
  {
   "cell_type": "markdown",
   "id": "7fe0f3aa-b9aa-4b21-9fe3-4cc1db2a066a",
   "metadata": {},
   "source": [
    "#ANSWER-12.\n",
    "Use a try block to write the code that may raise an exception.\n",
    "Use an except block to handle specific or generic exceptions.\n",
    "Optionally use else to execute code if no exception occurs.\n",
    "Use finally for cleanup tasks."
   ]
  },
  {
   "cell_type": "markdown",
   "id": "74f39fcd-a093-4400-b837-a78c3f7c0a54",
   "metadata": {},
   "source": [
    "QUESTION- 13. Why is memory management important in Python?"
   ]
  },
  {
   "cell_type": "markdown",
   "id": "d878f63f-49d2-4122-80b1-f743dc103b1a",
   "metadata": {},
   "source": [
    "#ANSWER-13.To prevent memory leaks, ensure efficient resource use, and manage object lifecycles."
   ]
  },
  {
   "cell_type": "markdown",
   "id": "997f0491-e378-4416-9329-585e5776e9cc",
   "metadata": {},
   "source": [
    "QUESTION-14.  What is the role of try and except in exception handling?"
   ]
  },
  {
   "cell_type": "markdown",
   "id": "ed5d4579-bd79-4679-a8f8-c8ebcb79da99",
   "metadata": {},
   "source": [
    "#ANSWER-14try: Contains code that might raise exceptions.\n",
    "except: Catches and handles the exceptions."
   ]
  },
  {
   "cell_type": "markdown",
   "id": "3867acbd-f60d-42c5-bc95-ffb86719e752",
   "metadata": {},
   "source": [
    "QUESTION-15. How does Python's garbage collection system work?"
   ]
  },
  {
   "cell_type": "markdown",
   "id": "a13f6014-77fd-4950-9095-b7414487f8b7",
   "metadata": {},
   "source": [
    "#ANSWER-15. Python uses reference counting and a cyclic garbage collector to free memory of unused objects."
   ]
  },
  {
   "cell_type": "markdown",
   "id": "5671cb86-4086-47de-bb94-03041fe8d73e",
   "metadata": {},
   "source": [
    "QUESTION-16. What is the purpose of the else block in exception handling?"
   ]
  },
  {
   "cell_type": "markdown",
   "id": "5ee81b59-8f6a-493e-8bc5-dfa337307b8f",
   "metadata": {},
   "source": [
    "#ANSWER-16 The else block is executed if no exceptions are raised in the try block."
   ]
  },
  {
   "cell_type": "markdown",
   "id": "5400d562-371a-4777-84fa-af959ab653c4",
   "metadata": {},
   "source": [
    "QUESTION-17. What are the common logging levels in Python?"
   ]
  },
  {
   "cell_type": "markdown",
   "id": "5cf6870a-2817-4bd4-bd9e-3cf64053cc27",
   "metadata": {},
   "source": [
    "#ANSWER-17. DEBUG, INFO, WARNING, ERROR, CRITICAL."
   ]
  },
  {
   "cell_type": "markdown",
   "id": "29cb70c8-6e34-41da-8c7a-17d0438a08d8",
   "metadata": {},
   "source": [
    "QUESTION-18. What is the difference between os.fork() and multiprocessing in Python?"
   ]
  },
  {
   "cell_type": "markdown",
   "id": "46c66073-0807-468a-b5b5-c9ae0fa077dc",
   "metadata": {},
   "source": [
    "#ANSWER-18.\n",
    "os.fork(): Creates a child process by duplicating the current process (Linux/Unix only).\n",
    "multiprocessing: Cross-platform module to create and manage processes with more control.\n"
   ]
  },
  {
   "cell_type": "markdown",
   "id": "919fa84a-79a6-4b48-8d92-d8a1d487e332",
   "metadata": {},
   "source": [
    "QUESTION-19. What is the importance of closing a file in Python?"
   ]
  },
  {
   "cell_type": "markdown",
   "id": "f134359c-8734-415b-b46c-4fd78ac09b29",
   "metadata": {},
   "source": [
    "#ANSWER-19.\n",
    "Closing a file ensures that changes are saved and system resources associated with the file are released."
   ]
  },
  {
   "cell_type": "markdown",
   "id": "908fe378-8dca-42f2-a7c1-22aa9bdd5571",
   "metadata": {},
   "source": [
    "QUESTION-20.What is the difference between file.read() and file.readline() in Python?"
   ]
  },
  {
   "cell_type": "markdown",
   "id": "8103db3e-b47e-4c25-875a-8d39c92cc525",
   "metadata": {},
   "source": [
    "#ANSWER-20.\n",
    "file.read(): Reads the entire file as a single string.\n",
    "file.readline(): Reads one line at a time."
   ]
  },
  {
   "cell_type": "markdown",
   "id": "f9d5a3fb-e77c-4ae7-9196-3de5c2feff8c",
   "metadata": {},
   "source": [
    "QUESTION-21.What is the logging module in Python used for?"
   ]
  },
  {
   "cell_type": "markdown",
   "id": "8814580b-2e1c-46e5-84dc-e9f6babee602",
   "metadata": {},
   "source": [
    "#ANSWER-21.The logging module is used to generate logs for different severity levels and to store them in files or display them on the console."
   ]
  },
  {
   "cell_type": "markdown",
   "id": "484c0e47-556c-4ed1-936a-44831002195f",
   "metadata": {},
   "source": [
    "QUESTION-22 What is the os module in Python used for in file handling?"
   ]
  },
  {
   "cell_type": "markdown",
   "id": "62c8dc4d-a758-4b0e-8f9c-bd60594dd358",
   "metadata": {},
   "source": [
    "#ANSWER-22.The os module provides functions to interact with the operating system, such as creating, deleting, and managing files and directories."
   ]
  },
  {
   "cell_type": "markdown",
   "id": "fd38fd3f-95f0-4470-b87e-f8b77383ec73",
   "metadata": {},
   "source": [
    "QUESTION-23. What are the challenges associated with memory management in Python?"
   ]
  },
  {
   "cell_type": "markdown",
   "id": "d12605f2-2bef-4f05-811a-7b0023ab027e",
   "metadata": {},
   "source": [
    "#ANSWER-23.Handling cyclic references, memory leaks from external libraries, and optimizing memory for large datasets."
   ]
  },
  {
   "cell_type": "markdown",
   "id": "05075bfe-a03a-47c9-bee7-dc5ec09caa7f",
   "metadata": {},
   "source": [
    "QUESTION-24. How do you raise an exception manually in Python?"
   ]
  },
  {
   "cell_type": "markdown",
   "id": "36ced492-9403-48ec-84b0-89015320e735",
   "metadata": {},
   "source": [
    "#ANSWER-24.Use the raise statement:\n",
    "raise ValueError(\"This is a custom exception.\")"
   ]
  },
  {
   "cell_type": "markdown",
   "id": "779e042c-9a8f-40a5-b586-50fff97bd4ae",
   "metadata": {},
   "source": [
    "QUESTION-25. Why is it important to use multithreading in certain applications?"
   ]
  },
  {
   "cell_type": "markdown",
   "id": "27e261cc-5bc7-4920-8f19-e4c43c5ab41a",
   "metadata": {},
   "source": [
    "#ANSWER-25.To improve performance in I/O-bound tasks by enabling parallelism and responsive user interfaces."
   ]
  },
  {
   "cell_type": "code",
   "execution_count": null,
   "id": "2fad63a0-ba3f-4693-84bd-0e66ad8db312",
   "metadata": {},
   "outputs": [],
   "source": [
    "                                                                        Practical Questions"
   ]
  },
  {
   "cell_type": "markdown",
   "id": "2d49c319-8c9e-4965-b810-aa63193ee4d1",
   "metadata": {},
   "source": [
    "QUESTION- 1.How can you open a file for writing in Python and write a string to it"
   ]
  },
  {
   "cell_type": "code",
   "execution_count": null,
   "id": "fa89b41c-71a0-4061-bf29-2241250d071c",
   "metadata": {},
   "outputs": [],
   "source": [
    "#ANSWER-1.\n",
    "with open('example.txt', 'w') as file:\n",
    "    file.write('Hello, World!')\n"
   ]
  },
  {
   "cell_type": "code",
   "execution_count": null,
   "id": "15bfb70c-64de-456b-8b31-292ed8396a5b",
   "metadata": {},
   "outputs": [],
   "source": [
    "QUESTION- 2.Write a Python program to read the contents of a file and print each line"
   ]
  },
  {
   "cell_type": "code",
   "execution_count": null,
   "id": "019e16f2-ef4a-43a4-8c4c-5dff844c6ed5",
   "metadata": {},
   "outputs": [],
   "source": [
    "#ANSWER-2.\n",
    "with open('example.txt', 'r') as file:\n",
    "    for line in file:\n",
    "        print(line.strip())\n"
   ]
  },
  {
   "cell_type": "code",
   "execution_count": null,
   "id": "567332cf-8317-4b03-90d7-357019610bb3",
   "metadata": {},
   "outputs": [],
   "source": [
    "QUESTION- 3. How would you handle a case where the file doesn't exist while trying to open it for reading?"
   ]
  },
  {
   "cell_type": "code",
   "execution_count": null,
   "id": "ace70a48-3642-488a-a27b-00c17fc5a888",
   "metadata": {},
   "outputs": [],
   "source": [
    "#ANSWER-3.\n",
    "try:\n",
    "    with open('nonexistent.txt', 'r') as file:\n",
    "        content = file.read()\n",
    "except FileNotFoundError:\n",
    "    print(\"The file doesn't exist.\")\n"
   ]
  },
  {
   "cell_type": "code",
   "execution_count": null,
   "id": "d1653051-1a61-4cad-9c64-e69d3bac508e",
   "metadata": {},
   "outputs": [],
   "source": [
    "QUESTION- 4.Write a Python script that reads from one file and writes its content to another file?"
   ]
  },
  {
   "cell_type": "code",
   "execution_count": null,
   "id": "68878594-8d69-4116-a5cf-2b304621dba1",
   "metadata": {},
   "outputs": [],
   "source": [
    "#ANSWER-4.\n",
    "with open('source.txt', 'r') as source, open('destination.txt', 'w') as destination:\n",
    "    destination.write(source.read())\n"
   ]
  },
  {
   "cell_type": "code",
   "execution_count": null,
   "id": "f2a034e3-0840-467a-a49a-d91ed62ac872",
   "metadata": {},
   "outputs": [],
   "source": [
    "QUESTION- 5.How would you catch and handle division by zero error in Python?"
   ]
  },
  {
   "cell_type": "code",
   "execution_count": null,
   "id": "dae00cb9-e11a-4915-bd8d-2f3ed60f950e",
   "metadata": {},
   "outputs": [],
   "source": [
    "#ANSWER-5.\n",
    "try:\n",
    "    result = 10 / 0\n",
    "except ZeroDivisionError:\n",
    "    print(\"Cannot divide by zero.\")\n"
   ]
  },
  {
   "cell_type": "code",
   "execution_count": null,
   "id": "88fafca9-bd7a-4cd1-8efe-df8ba1f05374",
   "metadata": {},
   "outputs": [],
   "source": [
    "QUESTION- 6. Write a Python program that logs an error message to a log file when a division by zero exception occurs?"
   ]
  },
  {
   "cell_type": "code",
   "execution_count": null,
   "id": "9df2cf6a-3c1a-4a39-a513-713e94fcee66",
   "metadata": {},
   "outputs": [],
   "source": [
    "#ANSWER-6.\n",
    "import logging\n",
    "\n",
    "logging.basicConfig(filename='errors.log', level=logging.ERROR)\n",
    "\n",
    "try:\n",
    "    result = 10 / 0\n",
    "except ZeroDivisionError as e:\n",
    "    logging.error(\"Division by zero occurred: %s\", e)\n"
   ]
  },
  {
   "cell_type": "code",
   "execution_count": null,
   "id": "303b26ff-cab2-450f-ada0-9187bae174d2",
   "metadata": {},
   "outputs": [],
   "source": [
    "QUESTION- 7.How do you log information at different levels (INFO, ERROR, WARNING) in Python using the logging module?"
   ]
  },
  {
   "cell_type": "code",
   "execution_count": null,
   "id": "252a4b8b-adaf-4671-8207-103df475e5cb",
   "metadata": {},
   "outputs": [],
   "source": [
    "#ANSWER-7.\n",
    "import logging\n",
    "\n",
    "logging.basicConfig(level=logging.DEBUG)\n",
    "\n",
    "logging.info(\"This is an INFO message.\")\n",
    "logging.warning(\"This is a WARNING message.\")\n",
    "logging.error(\"This is an ERROR message.\")\n"
   ]
  },
  {
   "cell_type": "code",
   "execution_count": null,
   "id": "8f5d67fa-47b7-491e-9176-6cbb57ea52ac",
   "metadata": {},
   "outputs": [],
   "source": [
    "QUESTION- 8.Write a program to handle a file opening error using exception handling?"
   ]
  },
  {
   "cell_type": "code",
   "execution_count": null,
   "id": "aff38c17-8efc-48e3-bbdf-3256c9d87933",
   "metadata": {},
   "outputs": [],
   "source": [
    "#ANSWER-8.\n",
    "try:\n",
    "    with open('nonexistent.txt', 'r') as file:\n",
    "        content = file.read()\n",
    "except FileNotFoundError:\n",
    "    print(\"The file could not be opened.\")\n"
   ]
  },
  {
   "cell_type": "code",
   "execution_count": null,
   "id": "febc30ca-07f0-4402-86ea-34afa838e8b7",
   "metadata": {},
   "outputs": [],
   "source": [
    "QUESTION- 9.How can you read a file line by line and store its content in a list in Python?"
   ]
  },
  {
   "cell_type": "code",
   "execution_count": null,
   "id": "478d73de-d808-4548-b791-b74269b0b6aa",
   "metadata": {},
   "outputs": [],
   "source": [
    "#ANSWER-9.\n",
    "with open('example.txt', 'r') as file:\n",
    "    lines = [line.strip() for line in file]\n"
   ]
  },
  {
   "cell_type": "code",
   "execution_count": null,
   "id": "cdea4bb2-8a1a-4ef2-beb7-0ed9727b7234",
   "metadata": {},
   "outputs": [],
   "source": [
    "QUESTION- 10. How can you append data to an existing file in Python?"
   ]
  },
  {
   "cell_type": "code",
   "execution_count": null,
   "id": "8685fc31-f97d-4e9e-8fb1-c5834e2778e5",
   "metadata": {},
   "outputs": [],
   "source": [
    "#ANSWER-10.\n",
    "with open('example.txt', 'a') as file:\n",
    "    file.write('Appending this line.\\n')\n"
   ]
  },
  {
   "cell_type": "code",
   "execution_count": null,
   "id": "decc6e0a-03be-4cd4-88eb-f0ae3e718efd",
   "metadata": {},
   "outputs": [],
   "source": [
    "QUESTION- 11. Write a Python program that uses a try-except block to handle an error when attempting to access a \n",
    "dictionary key that doesn't exist?"
   ]
  },
  {
   "cell_type": "code",
   "execution_count": null,
   "id": "86b3d7e1-8937-4624-bf4d-149b53abf7ad",
   "metadata": {},
   "outputs": [],
   "source": [
    "#ANSWER-11.\n",
    "try:\n",
    "    data = {'key': 'value'}\n",
    "    print(data['nonexistent'])\n",
    "except KeyError:\n",
    "    print(\"The key does not exist.\")\n"
   ]
  },
  {
   "cell_type": "code",
   "execution_count": null,
   "id": "bba579a3-c685-43d1-a6a9-90e2395fc90e",
   "metadata": {},
   "outputs": [],
   "source": [
    "QUESTION- 12.Write a program that demonstrates using multiple except blocks to handle different types of exceptions?"
   ]
  },
  {
   "cell_type": "code",
   "execution_count": null,
   "id": "325fde56-768b-450e-85a7-72dc755491a7",
   "metadata": {},
   "outputs": [],
   "source": [
    "#ANSWER-12.\n",
    "try:\n",
    "    x = 10 / 0\n",
    "except ZeroDivisionError:\n",
    "    print(\"Division by zero error.\")\n",
    "except ValueError:\n",
    "    print(\"Value error.\")\n"
   ]
  },
  {
   "cell_type": "code",
   "execution_count": null,
   "id": "63cd409c-099e-42a8-82ac-ddc6a267730c",
   "metadata": {},
   "outputs": [],
   "source": [
    "QUESTION- 13. How would you check if a file exists before attempting to read it in Python?"
   ]
  },
  {
   "cell_type": "code",
   "execution_count": null,
   "id": "03607042-4534-43f5-9ac3-be8c7d2e86fd",
   "metadata": {},
   "outputs": [],
   "source": [
    "#ANSWER-13.\n",
    "import os\n",
    "\n",
    "if os.path.exists('example.txt'):\n",
    "    with open('example.txt', 'r') as file:\n",
    "        print(file.read())\n",
    "else:\n",
    "    print(\"The file does not exist.\")\n"
   ]
  },
  {
   "cell_type": "code",
   "execution_count": null,
   "id": "1de84efc-c064-493e-974c-2adc686246ba",
   "metadata": {},
   "outputs": [],
   "source": [
    "QUESTION- 14. Write a program that uses the logging module to log both informational and error messages?"
   ]
  },
  {
   "cell_type": "code",
   "execution_count": null,
   "id": "125755f8-8333-4be6-86f1-b5155ab44fd8",
   "metadata": {},
   "outputs": [],
   "source": [
    "#ANSWER-14.\n",
    "import logging\n",
    "\n",
    "logging.basicConfig(filename='app.log', level=logging.INFO)\n",
    "\n",
    "try:\n",
    "    result = 10 / 0\n",
    "except ZeroDivisionError:\n",
    "    logging.error(\"Error occurred: Division by zero.\")\n",
    "logging.info(\"Program continues to execute.\")\n"
   ]
  },
  {
   "cell_type": "code",
   "execution_count": null,
   "id": "c739e4cd-8a19-418d-8811-640229ca81d2",
   "metadata": {},
   "outputs": [],
   "source": [
    "QUESTION- 15. Write a Python program that prints the content of a file and handles the case when the file is empty?"
   ]
  },
  {
   "cell_type": "code",
   "execution_count": null,
   "id": "70eb9543-37a5-4434-aece-636cede6cdf0",
   "metadata": {},
   "outputs": [],
   "source": [
    "#ANSWER-15.\n",
    "with open('example.txt', 'r') as file:\n",
    "    content = file.read()\n",
    "    if not content:\n",
    "        print(\"The file is empty.\")\n",
    "    else:\n",
    "        print(content)\n"
   ]
  },
  {
   "cell_type": "code",
   "execution_count": null,
   "id": "a33e5a1d-5468-4886-84b0-0a70e0b2781d",
   "metadata": {},
   "outputs": [],
   "source": [
    "QUESTION- 16 Demonstrate how to use memory profiling to check the memory usage of a small program?"
   ]
  },
  {
   "cell_type": "code",
   "execution_count": null,
   "id": "20ee1b50-f863-45fc-aa7c-b07fb73d533e",
   "metadata": {},
   "outputs": [],
   "source": [
    "#ANSWER-16.\n",
    "from memory_profiler import profile\n",
    "\n",
    "@profile\n",
    "def create_list():\n",
    "    return [i for i in range(10000)]\n",
    "\n",
    "create_list()\n",
    "."
   ]
  },
  {
   "cell_type": "code",
   "execution_count": null,
   "id": "50624bc0-e1ae-46e7-844c-83fb3ededbc8",
   "metadata": {},
   "outputs": [],
   "source": [
    "QUESTION- 17. Write a Python program to create and write a list of numbers to a file, one number per line?"
   ]
  },
  {
   "cell_type": "code",
   "execution_count": null,
   "id": "702b085b-d2dc-40c7-a7e2-0c6bc138253f",
   "metadata": {},
   "outputs": [],
   "source": [
    "#ANSWER-17.\n",
    "numbers = [1, 2, 3, 4, 5]\n",
    "with open('numbers.txt', 'w') as file:\n",
    "    for number in numbers:\n",
    "        file.write(f\"{number}\\n\")\n"
   ]
  },
  {
   "cell_type": "code",
   "execution_count": null,
   "id": "62ed42b5-1504-46e9-a0ad-d7c83b68c904",
   "metadata": {},
   "outputs": [],
   "source": [
    "QUESTION- 18. How would you implement a basic logging setup that logs to a file with rotation after 1MB?"
   ]
  },
  {
   "cell_type": "code",
   "execution_count": null,
   "id": "fd81237b-46c1-4588-8715-f8b354fff632",
   "metadata": {},
   "outputs": [],
   "source": [
    "#ANSWER-18.\n",
    "import logging\n",
    "from logging.handlers import RotatingFileHandler\n",
    "\n",
    "handler = RotatingFileHandler('app.log', maxBytes=1_000_000, backupCount=5)\n",
    "logging.basicConfig(handlers=[handler], level=logging.INFO)\n",
    "\n",
    "logging.info(\"Log file with rotation setup.\")\n"
   ]
  },
  {
   "cell_type": "code",
   "execution_count": null,
   "id": "8ce3b7d6-bebc-44bd-be8f-673586dc9fec",
   "metadata": {},
   "outputs": [],
   "source": [
    "QUESTION- 19. Write a program that handles both IndexError and KeyError using a try-except block?"
   ]
  },
  {
   "cell_type": "code",
   "execution_count": null,
   "id": "515e264f-3e49-4d06-8b79-d83d8c12bcf7",
   "metadata": {},
   "outputs": [],
   "source": [
    "#ANSWER-19.\n",
    "try:\n",
    "    lst = [1, 2, 3]\n",
    "    print(lst[5])\n",
    "except IndexError:\n",
    "    print(\"Index out of range.\")\n",
    "try:\n",
    "    data = {'key': 'value'}\n",
    "    print(data['nonexistent'])\n",
    "except KeyError:\n",
    "    print(\"Key not found.\")\n"
   ]
  },
  {
   "cell_type": "code",
   "execution_count": null,
   "id": "98fac241-1f33-4056-b133-7c96534b3581",
   "metadata": {},
   "outputs": [],
   "source": [
    "QUESTION- 20. How would you open a file and read its contents using a context manager in Python?"
   ]
  },
  {
   "cell_type": "code",
   "execution_count": null,
   "id": "2d6bb33e-d426-4bc5-a8de-a2d3bc027ac5",
   "metadata": {},
   "outputs": [],
   "source": [
    "#ANSWER-20.\n",
    "with open('example.txt', 'r') as file:\n",
    "    print(file.read())\n"
   ]
  },
  {
   "cell_type": "code",
   "execution_count": null,
   "id": "dab2f776-fb11-4e94-bdb1-8112382bb00d",
   "metadata": {},
   "outputs": [],
   "source": [
    "QUESTION- 21. Write a Python program that reads a file and prints the number of occurrences of a specific word?"
   ]
  },
  {
   "cell_type": "code",
   "execution_count": null,
   "id": "df05d4dd-39fa-4f44-883a-202c09204159",
   "metadata": {},
   "outputs": [],
   "source": [
    "#ANSWER-21.\n",
    "with open('example.txt', 'r') as file:\n",
    "    content = file.read()\n",
    "word = 'Python'\n",
    "print(content.count(word))\n"
   ]
  },
  {
   "cell_type": "code",
   "execution_count": null,
   "id": "bd2c20a2-ac10-4410-b99e-8118ceb23ea3",
   "metadata": {},
   "outputs": [],
   "source": [
    "QUESTION- 22. How can you check if a file is empty before attempting to read its contents?"
   ]
  },
  {
   "cell_type": "code",
   "execution_count": null,
   "id": "93a3200d-0c01-47c9-a9a1-f6c48d981634",
   "metadata": {},
   "outputs": [],
   "source": [
    "#ANSWER-22.\n",
    "import os\n",
    "\n",
    "if os.path.getsize('example.txt') == 0:\n",
    "    print(\"The file is empty.\")\n"
   ]
  },
  {
   "cell_type": "code",
   "execution_count": null,
   "id": "3aa926ac-7ba3-40cc-bf17-850df7c3b635",
   "metadata": {},
   "outputs": [],
   "source": [
    "QUESTION- 23. Write a Python program that writes to a log file when an error occurs during file handling."
   ]
  },
  {
   "cell_type": "code",
   "execution_count": null,
   "id": "1910572e-59e6-49e3-adb0-7976d862517a",
   "metadata": {},
   "outputs": [],
   "source": [
    "#ANSWER-23.\n",
    "import logging\n",
    "\n",
    "logging.basicConfig(filename='file_errors.log', level=logging.ERROR)\n",
    "\n",
    "try:\n",
    "    with open('nonexistent.txt', 'r') as file:\n",
    "        content = file.read()\n",
    "except FileNotFoundError as e:\n",
    "    logging.error(\"File error: %s\", e)"
   ]
  }
 ],
 "metadata": {
  "kernelspec": {
   "display_name": "Python 3 (ipykernel)",
   "language": "python",
   "name": "python3"
  },
  "language_info": {
   "codemirror_mode": {
    "name": "ipython",
    "version": 3
   },
   "file_extension": ".py",
   "mimetype": "text/x-python",
   "name": "python",
   "nbconvert_exporter": "python",
   "pygments_lexer": "ipython3",
   "version": "3.12.7"
  }
 },
 "nbformat": 4,
 "nbformat_minor": 5
}
